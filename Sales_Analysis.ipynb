{
  "nbformat": 4,
  "nbformat_minor": 0,
  "metadata": {
    "colab": {
      "provenance": []
    },
    "kernelspec": {
      "name": "python3",
      "display_name": "Python 3"
    },
    "language_info": {
      "name": "python"
    }
  },
  "cells": [
    {
      "cell_type": "markdown",
      "source": [
        "# **Sales Analysis Project**\n",
        "\n"
      ],
      "metadata": {
        "id": "EyLjFbQTOs5b"
      }
    },
    {
      "cell_type": "markdown",
      "source": [
        "Import Libraries\n",
        "\n"
      ],
      "metadata": {
        "id": "sFuAjdh2Oa19"
      }
    },
    {
      "cell_type": "code",
      "execution_count": null,
      "metadata": {
        "id": "O5x8PfupLV2Q"
      },
      "outputs": [],
      "source": [
        "# import Libraries\n",
        "import pandas as pd\n",
        "import numpy as np\n",
        "import statistics as st\n",
        "from sklearn import preprocessing\n",
        "import seaborn as sns\n",
        "from matplotlib import pyplot as plt"
      ]
    },
    {
      "cell_type": "markdown",
      "source": [
        "Load the dataset"
      ],
      "metadata": {
        "id": "25CNh6ysOkxF"
      }
    },
    {
      "cell_type": "code",
      "source": [
        "# The dataset file is Excel extention. So, I use the read_excel to read Excel file\n",
        "data = pd.read_excel('/content/Sales_analysis.xlsx')"
      ],
      "metadata": {
        "id": "OBEBydOjLjNF"
      },
      "execution_count": null,
      "outputs": []
    },
    {
      "cell_type": "code",
      "source": [
        "# To see the first 5 rows in the dataset\n",
        "data.head()"
      ],
      "metadata": {
        "colab": {
          "base_uri": "https://localhost:8080/",
          "height": 206
        },
        "id": "I8UI35r4Lvm4",
        "outputId": "a1f75797-b7b5-4655-dbc4-2b3adf7f3479"
      },
      "execution_count": null,
      "outputs": [
        {
          "output_type": "execute_result",
          "data": {
            "text/plain": [
              "        Date        Time State     Group  Unit  Sales\n",
              "0 2020-10-01     Morning    WA      Kids     8  20000\n",
              "1 2020-10-01     Morning    WA       Men     8  20000\n",
              "2 2020-10-01     Morning    WA     Women     4  10000\n",
              "3 2020-10-01     Morning    WA   Seniors    15  37500\n",
              "4 2020-10-01   Afternoon    WA      Kids     3   7500"
            ],
            "text/html": [
              "\n",
              "  <div id=\"df-acaa435e-0f0b-498d-8fd7-e32de8d75a62\" class=\"colab-df-container\">\n",
              "    <div>\n",
              "<style scoped>\n",
              "    .dataframe tbody tr th:only-of-type {\n",
              "        vertical-align: middle;\n",
              "    }\n",
              "\n",
              "    .dataframe tbody tr th {\n",
              "        vertical-align: top;\n",
              "    }\n",
              "\n",
              "    .dataframe thead th {\n",
              "        text-align: right;\n",
              "    }\n",
              "</style>\n",
              "<table border=\"1\" class=\"dataframe\">\n",
              "  <thead>\n",
              "    <tr style=\"text-align: right;\">\n",
              "      <th></th>\n",
              "      <th>Date</th>\n",
              "      <th>Time</th>\n",
              "      <th>State</th>\n",
              "      <th>Group</th>\n",
              "      <th>Unit</th>\n",
              "      <th>Sales</th>\n",
              "    </tr>\n",
              "  </thead>\n",
              "  <tbody>\n",
              "    <tr>\n",
              "      <th>0</th>\n",
              "      <td>2020-10-01</td>\n",
              "      <td>Morning</td>\n",
              "      <td>WA</td>\n",
              "      <td>Kids</td>\n",
              "      <td>8</td>\n",
              "      <td>20000</td>\n",
              "    </tr>\n",
              "    <tr>\n",
              "      <th>1</th>\n",
              "      <td>2020-10-01</td>\n",
              "      <td>Morning</td>\n",
              "      <td>WA</td>\n",
              "      <td>Men</td>\n",
              "      <td>8</td>\n",
              "      <td>20000</td>\n",
              "    </tr>\n",
              "    <tr>\n",
              "      <th>2</th>\n",
              "      <td>2020-10-01</td>\n",
              "      <td>Morning</td>\n",
              "      <td>WA</td>\n",
              "      <td>Women</td>\n",
              "      <td>4</td>\n",
              "      <td>10000</td>\n",
              "    </tr>\n",
              "    <tr>\n",
              "      <th>3</th>\n",
              "      <td>2020-10-01</td>\n",
              "      <td>Morning</td>\n",
              "      <td>WA</td>\n",
              "      <td>Seniors</td>\n",
              "      <td>15</td>\n",
              "      <td>37500</td>\n",
              "    </tr>\n",
              "    <tr>\n",
              "      <th>4</th>\n",
              "      <td>2020-10-01</td>\n",
              "      <td>Afternoon</td>\n",
              "      <td>WA</td>\n",
              "      <td>Kids</td>\n",
              "      <td>3</td>\n",
              "      <td>7500</td>\n",
              "    </tr>\n",
              "  </tbody>\n",
              "</table>\n",
              "</div>\n",
              "    <div class=\"colab-df-buttons\">\n",
              "\n",
              "  <div class=\"colab-df-container\">\n",
              "    <button class=\"colab-df-convert\" onclick=\"convertToInteractive('df-acaa435e-0f0b-498d-8fd7-e32de8d75a62')\"\n",
              "            title=\"Convert this dataframe to an interactive table.\"\n",
              "            style=\"display:none;\">\n",
              "\n",
              "  <svg xmlns=\"http://www.w3.org/2000/svg\" height=\"24px\" viewBox=\"0 -960 960 960\">\n",
              "    <path d=\"M120-120v-720h720v720H120Zm60-500h600v-160H180v160Zm220 220h160v-160H400v160Zm0 220h160v-160H400v160ZM180-400h160v-160H180v160Zm440 0h160v-160H620v160ZM180-180h160v-160H180v160Zm440 0h160v-160H620v160Z\"/>\n",
              "  </svg>\n",
              "    </button>\n",
              "\n",
              "  <style>\n",
              "    .colab-df-container {\n",
              "      display:flex;\n",
              "      gap: 12px;\n",
              "    }\n",
              "\n",
              "    .colab-df-convert {\n",
              "      background-color: #E8F0FE;\n",
              "      border: none;\n",
              "      border-radius: 50%;\n",
              "      cursor: pointer;\n",
              "      display: none;\n",
              "      fill: #1967D2;\n",
              "      height: 32px;\n",
              "      padding: 0 0 0 0;\n",
              "      width: 32px;\n",
              "    }\n",
              "\n",
              "    .colab-df-convert:hover {\n",
              "      background-color: #E2EBFA;\n",
              "      box-shadow: 0px 1px 2px rgba(60, 64, 67, 0.3), 0px 1px 3px 1px rgba(60, 64, 67, 0.15);\n",
              "      fill: #174EA6;\n",
              "    }\n",
              "\n",
              "    .colab-df-buttons div {\n",
              "      margin-bottom: 4px;\n",
              "    }\n",
              "\n",
              "    [theme=dark] .colab-df-convert {\n",
              "      background-color: #3B4455;\n",
              "      fill: #D2E3FC;\n",
              "    }\n",
              "\n",
              "    [theme=dark] .colab-df-convert:hover {\n",
              "      background-color: #434B5C;\n",
              "      box-shadow: 0px 1px 3px 1px rgba(0, 0, 0, 0.15);\n",
              "      filter: drop-shadow(0px 1px 2px rgba(0, 0, 0, 0.3));\n",
              "      fill: #FFFFFF;\n",
              "    }\n",
              "  </style>\n",
              "\n",
              "    <script>\n",
              "      const buttonEl =\n",
              "        document.querySelector('#df-acaa435e-0f0b-498d-8fd7-e32de8d75a62 button.colab-df-convert');\n",
              "      buttonEl.style.display =\n",
              "        google.colab.kernel.accessAllowed ? 'block' : 'none';\n",
              "\n",
              "      async function convertToInteractive(key) {\n",
              "        const element = document.querySelector('#df-acaa435e-0f0b-498d-8fd7-e32de8d75a62');\n",
              "        const dataTable =\n",
              "          await google.colab.kernel.invokeFunction('convertToInteractive',\n",
              "                                                    [key], {});\n",
              "        if (!dataTable) return;\n",
              "\n",
              "        const docLinkHtml = 'Like what you see? Visit the ' +\n",
              "          '<a target=\"_blank\" href=https://colab.research.google.com/notebooks/data_table.ipynb>data table notebook</a>'\n",
              "          + ' to learn more about interactive tables.';\n",
              "        element.innerHTML = '';\n",
              "        dataTable['output_type'] = 'display_data';\n",
              "        await google.colab.output.renderOutput(dataTable, element);\n",
              "        const docLink = document.createElement('div');\n",
              "        docLink.innerHTML = docLinkHtml;\n",
              "        element.appendChild(docLink);\n",
              "      }\n",
              "    </script>\n",
              "  </div>\n",
              "\n",
              "\n",
              "<div id=\"df-f89d1bc1-bd53-4cb4-8cf2-03b437e4904e\">\n",
              "  <button class=\"colab-df-quickchart\" onclick=\"quickchart('df-f89d1bc1-bd53-4cb4-8cf2-03b437e4904e')\"\n",
              "            title=\"Suggest charts.\"\n",
              "            style=\"display:none;\">\n",
              "\n",
              "<svg xmlns=\"http://www.w3.org/2000/svg\" height=\"24px\"viewBox=\"0 0 24 24\"\n",
              "     width=\"24px\">\n",
              "    <g>\n",
              "        <path d=\"M19 3H5c-1.1 0-2 .9-2 2v14c0 1.1.9 2 2 2h14c1.1 0 2-.9 2-2V5c0-1.1-.9-2-2-2zM9 17H7v-7h2v7zm4 0h-2V7h2v10zm4 0h-2v-4h2v4z\"/>\n",
              "    </g>\n",
              "</svg>\n",
              "  </button>\n",
              "\n",
              "<style>\n",
              "  .colab-df-quickchart {\n",
              "      --bg-color: #E8F0FE;\n",
              "      --fill-color: #1967D2;\n",
              "      --hover-bg-color: #E2EBFA;\n",
              "      --hover-fill-color: #174EA6;\n",
              "      --disabled-fill-color: #AAA;\n",
              "      --disabled-bg-color: #DDD;\n",
              "  }\n",
              "\n",
              "  [theme=dark] .colab-df-quickchart {\n",
              "      --bg-color: #3B4455;\n",
              "      --fill-color: #D2E3FC;\n",
              "      --hover-bg-color: #434B5C;\n",
              "      --hover-fill-color: #FFFFFF;\n",
              "      --disabled-bg-color: #3B4455;\n",
              "      --disabled-fill-color: #666;\n",
              "  }\n",
              "\n",
              "  .colab-df-quickchart {\n",
              "    background-color: var(--bg-color);\n",
              "    border: none;\n",
              "    border-radius: 50%;\n",
              "    cursor: pointer;\n",
              "    display: none;\n",
              "    fill: var(--fill-color);\n",
              "    height: 32px;\n",
              "    padding: 0;\n",
              "    width: 32px;\n",
              "  }\n",
              "\n",
              "  .colab-df-quickchart:hover {\n",
              "    background-color: var(--hover-bg-color);\n",
              "    box-shadow: 0 1px 2px rgba(60, 64, 67, 0.3), 0 1px 3px 1px rgba(60, 64, 67, 0.15);\n",
              "    fill: var(--button-hover-fill-color);\n",
              "  }\n",
              "\n",
              "  .colab-df-quickchart-complete:disabled,\n",
              "  .colab-df-quickchart-complete:disabled:hover {\n",
              "    background-color: var(--disabled-bg-color);\n",
              "    fill: var(--disabled-fill-color);\n",
              "    box-shadow: none;\n",
              "  }\n",
              "\n",
              "  .colab-df-spinner {\n",
              "    border: 2px solid var(--fill-color);\n",
              "    border-color: transparent;\n",
              "    border-bottom-color: var(--fill-color);\n",
              "    animation:\n",
              "      spin 1s steps(1) infinite;\n",
              "  }\n",
              "\n",
              "  @keyframes spin {\n",
              "    0% {\n",
              "      border-color: transparent;\n",
              "      border-bottom-color: var(--fill-color);\n",
              "      border-left-color: var(--fill-color);\n",
              "    }\n",
              "    20% {\n",
              "      border-color: transparent;\n",
              "      border-left-color: var(--fill-color);\n",
              "      border-top-color: var(--fill-color);\n",
              "    }\n",
              "    30% {\n",
              "      border-color: transparent;\n",
              "      border-left-color: var(--fill-color);\n",
              "      border-top-color: var(--fill-color);\n",
              "      border-right-color: var(--fill-color);\n",
              "    }\n",
              "    40% {\n",
              "      border-color: transparent;\n",
              "      border-right-color: var(--fill-color);\n",
              "      border-top-color: var(--fill-color);\n",
              "    }\n",
              "    60% {\n",
              "      border-color: transparent;\n",
              "      border-right-color: var(--fill-color);\n",
              "    }\n",
              "    80% {\n",
              "      border-color: transparent;\n",
              "      border-right-color: var(--fill-color);\n",
              "      border-bottom-color: var(--fill-color);\n",
              "    }\n",
              "    90% {\n",
              "      border-color: transparent;\n",
              "      border-bottom-color: var(--fill-color);\n",
              "    }\n",
              "  }\n",
              "</style>\n",
              "\n",
              "  <script>\n",
              "    async function quickchart(key) {\n",
              "      const quickchartButtonEl =\n",
              "        document.querySelector('#' + key + ' button');\n",
              "      quickchartButtonEl.disabled = true;  // To prevent multiple clicks.\n",
              "      quickchartButtonEl.classList.add('colab-df-spinner');\n",
              "      try {\n",
              "        const charts = await google.colab.kernel.invokeFunction(\n",
              "            'suggestCharts', [key], {});\n",
              "      } catch (error) {\n",
              "        console.error('Error during call to suggestCharts:', error);\n",
              "      }\n",
              "      quickchartButtonEl.classList.remove('colab-df-spinner');\n",
              "      quickchartButtonEl.classList.add('colab-df-quickchart-complete');\n",
              "    }\n",
              "    (() => {\n",
              "      let quickchartButtonEl =\n",
              "        document.querySelector('#df-f89d1bc1-bd53-4cb4-8cf2-03b437e4904e button');\n",
              "      quickchartButtonEl.style.display =\n",
              "        google.colab.kernel.accessAllowed ? 'block' : 'none';\n",
              "    })();\n",
              "  </script>\n",
              "</div>\n",
              "    </div>\n",
              "  </div>\n"
            ]
          },
          "metadata": {},
          "execution_count": 38
        }
      ]
    },
    {
      "cell_type": "markdown",
      "source": [
        "## **1. Data Wrangling**\n",
        "\n"
      ],
      "metadata": {
        "id": "1e_GGZE0OrAy"
      }
    },
    {
      "cell_type": "markdown",
      "source": [
        "**1: Ensure that the data is clean and that there is no missing or incorrect data.**\n",
        "\n",
        "\n",
        "*   **Inspect the data manually for missing/incorrect data using the functions isna(), and notna().**\n",
        "\n",
        "\n",
        "\n",
        "\n",
        "\n",
        "\n"
      ],
      "metadata": {
        "id": "GXFbZVfPPG64"
      }
    },
    {
      "cell_type": "code",
      "source": [
        "data.info()"
      ],
      "metadata": {
        "colab": {
          "base_uri": "https://localhost:8080/"
        },
        "id": "NAlCZ9S7oeBh",
        "outputId": "6f0157ea-9e25-4a8a-97e0-d45e599cbfca"
      },
      "execution_count": null,
      "outputs": [
        {
          "output_type": "stream",
          "name": "stdout",
          "text": [
            "<class 'pandas.core.frame.DataFrame'>\n",
            "RangeIndex: 7560 entries, 0 to 7559\n",
            "Data columns (total 6 columns):\n",
            " #   Column  Non-Null Count  Dtype         \n",
            "---  ------  --------------  -----         \n",
            " 0   Date    7560 non-null   datetime64[ns]\n",
            " 1   Time    7560 non-null   object        \n",
            " 2   State   7560 non-null   object        \n",
            " 3   Group   7560 non-null   object        \n",
            " 4   Unit    7560 non-null   int64         \n",
            " 5   Sales   7560 non-null   int64         \n",
            "dtypes: datetime64[ns](1), int64(2), object(3)\n",
            "memory usage: 354.5+ KB\n"
          ]
        }
      ]
    },
    {
      "cell_type": "code",
      "source": [
        "# Check if the data has a null values\n",
        "data.isna().sum()"
      ],
      "metadata": {
        "colab": {
          "base_uri": "https://localhost:8080/"
        },
        "id": "8q8mii-9LxFg",
        "outputId": "10347fcd-960f-46c5-dc0a-354407212c62"
      },
      "execution_count": null,
      "outputs": [
        {
          "output_type": "execute_result",
          "data": {
            "text/plain": [
              "Date     0\n",
              "Time     0\n",
              "State    0\n",
              "Group    0\n",
              "Unit     0\n",
              "Sales    0\n",
              "dtype: int64"
            ]
          },
          "metadata": {},
          "execution_count": 40
        }
      ]
    },
    {
      "cell_type": "code",
      "source": [
        "# Check if the data has a not null values\n",
        "data.notna().sum()"
      ],
      "metadata": {
        "colab": {
          "base_uri": "https://localhost:8080/"
        },
        "id": "Mvj-eWSnLz0Y",
        "outputId": "36cde8c5-67eb-4541-b305-0de654aebddc"
      },
      "execution_count": null,
      "outputs": [
        {
          "output_type": "execute_result",
          "data": {
            "text/plain": [
              "Date     7560\n",
              "Time     7560\n",
              "State    7560\n",
              "Group    7560\n",
              "Unit     7560\n",
              "Sales    7560\n",
              "dtype: int64"
            ]
          },
          "metadata": {},
          "execution_count": 41
        }
      ]
    },
    {
      "cell_type": "code",
      "source": [
        "# Return the unique values from the dataset\n",
        "data.nunique()"
      ],
      "metadata": {
        "colab": {
          "base_uri": "https://localhost:8080/"
        },
        "id": "fMJ3rgrdMxZd",
        "outputId": "7de40106-283a-4dfc-e27a-f7205d9c3cc4"
      },
      "execution_count": null,
      "outputs": [
        {
          "output_type": "execute_result",
          "data": {
            "text/plain": [
              "Date     90\n",
              "Time      3\n",
              "State     7\n",
              "Group     4\n",
              "Unit     64\n",
              "Sales    64\n",
              "dtype: int64"
            ]
          },
          "metadata": {},
          "execution_count": 42
        }
      ]
    },
    {
      "cell_type": "code",
      "source": [
        "# Return the columns labels\n",
        "data.columns"
      ],
      "metadata": {
        "colab": {
          "base_uri": "https://localhost:8080/"
        },
        "id": "3wplsN2vryRH",
        "outputId": "e4f6ed99-a3da-4056-d014-db716e4ec82b"
      },
      "execution_count": null,
      "outputs": [
        {
          "output_type": "execute_result",
          "data": {
            "text/plain": [
              "Index(['Date', 'Time', 'State', 'Group', 'Unit', 'Sales'], dtype='object')"
            ]
          },
          "metadata": {},
          "execution_count": 43
        }
      ]
    },
    {
      "cell_type": "code",
      "source": [
        "# Return the number of rows and columns in the data set\n",
        "# Rows = 7560 & Columns = 6\n",
        "data.shape"
      ],
      "metadata": {
        "colab": {
          "base_uri": "https://localhost:8080/"
        },
        "id": "XDdlBd6vsD9l",
        "outputId": "d7b3e018-8f10-4203-bc4c-2b8a11d196f1"
      },
      "execution_count": null,
      "outputs": [
        {
          "output_type": "execute_result",
          "data": {
            "text/plain": [
              "(7560, 6)"
            ]
          },
          "metadata": {},
          "execution_count": 44
        }
      ]
    },
    {
      "cell_type": "markdown",
      "source": [
        "**2: Based on your knowledge of Data Analytics, include your recommendations for treating missing data and incorrect data.**\n",
        "*   **(dropping the null values or filling them).**"
      ],
      "metadata": {
        "id": "sm6-lZB3PTsO"
      }
    },
    {
      "cell_type": "markdown",
      "source": [
        "If the dataset has missing data or incorrect data we can drop the columns or filling them by calculate the average and fill the missing or incorrect data with it. It depends on the dataset type and how important does the dataset."
      ],
      "metadata": {
        "id": "5SsQ2__HPW_F"
      }
    },
    {
      "cell_type": "markdown",
      "source": [
        "**3: Select an appropriate Data Wrangling approach —  data standardization or data normalization.**\n",
        "*   **Perform the standardization or normalization and present the data. (Normalization is the preferred approach for this problem.)**\n"
      ],
      "metadata": {
        "id": "yx15sSfPQh9N"
      }
    },
    {
      "cell_type": "code",
      "source": [
        "# Normalize the data columns unit and sales using the min-max method\n",
        "data_normaliz = data[['Unit','Sales']].copy()\n",
        "\n",
        "# apply normalization techniques\n",
        "for column in data_normaliz.columns:\n",
        "  data_normaliz[column] = (data_normaliz[column] - data_normaliz[column].min()) / (data_normaliz[column].max() - data_normaliz[column].min())\n",
        "\n",
        "# view normalized data\n",
        "print(data_normaliz)"
      ],
      "metadata": {
        "id": "BcnF58WwRM5G",
        "colab": {
          "base_uri": "https://localhost:8080/"
        },
        "outputId": "069fd116-3863-4808-f1e9-db3b6a73e0b9"
      },
      "execution_count": null,
      "outputs": [
        {
          "output_type": "stream",
          "name": "stdout",
          "text": [
            "          Unit     Sales\n",
            "0     0.095238  0.095238\n",
            "1     0.095238  0.095238\n",
            "2     0.031746  0.031746\n",
            "3     0.206349  0.206349\n",
            "4     0.015873  0.015873\n",
            "...        ...       ...\n",
            "7555  0.190476  0.190476\n",
            "7556  0.206349  0.206349\n",
            "7557  0.206349  0.206349\n",
            "7558  0.142857  0.142857\n",
            "7559  0.174603  0.174603\n",
            "\n",
            "[7560 rows x 2 columns]\n"
          ]
        }
      ]
    },
    {
      "cell_type": "markdown",
      "source": [
        "**4: Share your recommendation on the usage of the *groupby()* function for data chunking or merging.**"
      ],
      "metadata": {
        "id": "KWQ0Lv1BQ4le"
      }
    },
    {
      "cell_type": "markdown",
      "source": [
        "We can use groupby() function to split the data into groups based on some criteria. like in this example I count the number of each group in the dataset"
      ],
      "metadata": {
        "id": "qIPzl2yA4HTV"
      }
    },
    {
      "cell_type": "code",
      "source": [
        "print(data.groupby('Group').count())"
      ],
      "metadata": {
        "id": "UyJRz3vXMEdF",
        "colab": {
          "base_uri": "https://localhost:8080/"
        },
        "outputId": "91378608-d767-4f96-a975-3a0a4a3c771d"
      },
      "execution_count": null,
      "outputs": [
        {
          "output_type": "stream",
          "name": "stdout",
          "text": [
            "          Date  Time  State  Unit  Sales\n",
            "Group                                   \n",
            " Kids     1890  1890   1890  1890   1890\n",
            " Men      1890  1890   1890  1890   1890\n",
            " Seniors  1890  1890   1890  1890   1890\n",
            " Women    1890  1890   1890  1890   1890\n"
          ]
        }
      ]
    },
    {
      "cell_type": "markdown",
      "source": [
        "## **2.\tData Analysis**"
      ],
      "metadata": {
        "id": "-_UC9eGugRfG"
      }
    },
    {
      "cell_type": "markdown",
      "source": [
        "**1:\tPerform descriptive statistical analysis on the data (Sales and Unit columns)**\n",
        "\n",
        "*  **(Techniques such as mean, median, mode and standard deviation can be used.).**\n",
        "\n"
      ],
      "metadata": {
        "id": "MTeXLITagXSf"
      }
    },
    {
      "cell_type": "markdown",
      "source": [
        "In this task as beginners we will use the long way to perform this task. But there is a shorter way to found the requestd values."
      ],
      "metadata": {
        "id": "1BJi0dGRskvH"
      }
    },
    {
      "cell_type": "code",
      "source": [
        "# View the data statistics\n",
        "data.describe()"
      ],
      "metadata": {
        "colab": {
          "base_uri": "https://localhost:8080/",
          "height": 300
        },
        "id": "_Qepr1WM8ju5",
        "outputId": "06fc5017-69ca-4c62-d837-c871391bf70f"
      },
      "execution_count": null,
      "outputs": [
        {
          "output_type": "execute_result",
          "data": {
            "text/plain": [
              "              Unit          Sales\n",
              "count  7560.000000    7560.000000\n",
              "mean     18.005423   45013.558201\n",
              "std      12.901403   32253.506944\n",
              "min       2.000000    5000.000000\n",
              "25%       8.000000   20000.000000\n",
              "50%      14.000000   35000.000000\n",
              "75%      26.000000   65000.000000\n",
              "max      65.000000  162500.000000"
            ],
            "text/html": [
              "\n",
              "  <div id=\"df-0921fa48-c55f-43d1-bb4d-8ff3ed6fb080\" class=\"colab-df-container\">\n",
              "    <div>\n",
              "<style scoped>\n",
              "    .dataframe tbody tr th:only-of-type {\n",
              "        vertical-align: middle;\n",
              "    }\n",
              "\n",
              "    .dataframe tbody tr th {\n",
              "        vertical-align: top;\n",
              "    }\n",
              "\n",
              "    .dataframe thead th {\n",
              "        text-align: right;\n",
              "    }\n",
              "</style>\n",
              "<table border=\"1\" class=\"dataframe\">\n",
              "  <thead>\n",
              "    <tr style=\"text-align: right;\">\n",
              "      <th></th>\n",
              "      <th>Unit</th>\n",
              "      <th>Sales</th>\n",
              "    </tr>\n",
              "  </thead>\n",
              "  <tbody>\n",
              "    <tr>\n",
              "      <th>count</th>\n",
              "      <td>7560.000000</td>\n",
              "      <td>7560.000000</td>\n",
              "    </tr>\n",
              "    <tr>\n",
              "      <th>mean</th>\n",
              "      <td>18.005423</td>\n",
              "      <td>45013.558201</td>\n",
              "    </tr>\n",
              "    <tr>\n",
              "      <th>std</th>\n",
              "      <td>12.901403</td>\n",
              "      <td>32253.506944</td>\n",
              "    </tr>\n",
              "    <tr>\n",
              "      <th>min</th>\n",
              "      <td>2.000000</td>\n",
              "      <td>5000.000000</td>\n",
              "    </tr>\n",
              "    <tr>\n",
              "      <th>25%</th>\n",
              "      <td>8.000000</td>\n",
              "      <td>20000.000000</td>\n",
              "    </tr>\n",
              "    <tr>\n",
              "      <th>50%</th>\n",
              "      <td>14.000000</td>\n",
              "      <td>35000.000000</td>\n",
              "    </tr>\n",
              "    <tr>\n",
              "      <th>75%</th>\n",
              "      <td>26.000000</td>\n",
              "      <td>65000.000000</td>\n",
              "    </tr>\n",
              "    <tr>\n",
              "      <th>max</th>\n",
              "      <td>65.000000</td>\n",
              "      <td>162500.000000</td>\n",
              "    </tr>\n",
              "  </tbody>\n",
              "</table>\n",
              "</div>\n",
              "    <div class=\"colab-df-buttons\">\n",
              "\n",
              "  <div class=\"colab-df-container\">\n",
              "    <button class=\"colab-df-convert\" onclick=\"convertToInteractive('df-0921fa48-c55f-43d1-bb4d-8ff3ed6fb080')\"\n",
              "            title=\"Convert this dataframe to an interactive table.\"\n",
              "            style=\"display:none;\">\n",
              "\n",
              "  <svg xmlns=\"http://www.w3.org/2000/svg\" height=\"24px\" viewBox=\"0 -960 960 960\">\n",
              "    <path d=\"M120-120v-720h720v720H120Zm60-500h600v-160H180v160Zm220 220h160v-160H400v160Zm0 220h160v-160H400v160ZM180-400h160v-160H180v160Zm440 0h160v-160H620v160ZM180-180h160v-160H180v160Zm440 0h160v-160H620v160Z\"/>\n",
              "  </svg>\n",
              "    </button>\n",
              "\n",
              "  <style>\n",
              "    .colab-df-container {\n",
              "      display:flex;\n",
              "      gap: 12px;\n",
              "    }\n",
              "\n",
              "    .colab-df-convert {\n",
              "      background-color: #E8F0FE;\n",
              "      border: none;\n",
              "      border-radius: 50%;\n",
              "      cursor: pointer;\n",
              "      display: none;\n",
              "      fill: #1967D2;\n",
              "      height: 32px;\n",
              "      padding: 0 0 0 0;\n",
              "      width: 32px;\n",
              "    }\n",
              "\n",
              "    .colab-df-convert:hover {\n",
              "      background-color: #E2EBFA;\n",
              "      box-shadow: 0px 1px 2px rgba(60, 64, 67, 0.3), 0px 1px 3px 1px rgba(60, 64, 67, 0.15);\n",
              "      fill: #174EA6;\n",
              "    }\n",
              "\n",
              "    .colab-df-buttons div {\n",
              "      margin-bottom: 4px;\n",
              "    }\n",
              "\n",
              "    [theme=dark] .colab-df-convert {\n",
              "      background-color: #3B4455;\n",
              "      fill: #D2E3FC;\n",
              "    }\n",
              "\n",
              "    [theme=dark] .colab-df-convert:hover {\n",
              "      background-color: #434B5C;\n",
              "      box-shadow: 0px 1px 3px 1px rgba(0, 0, 0, 0.15);\n",
              "      filter: drop-shadow(0px 1px 2px rgba(0, 0, 0, 0.3));\n",
              "      fill: #FFFFFF;\n",
              "    }\n",
              "  </style>\n",
              "\n",
              "    <script>\n",
              "      const buttonEl =\n",
              "        document.querySelector('#df-0921fa48-c55f-43d1-bb4d-8ff3ed6fb080 button.colab-df-convert');\n",
              "      buttonEl.style.display =\n",
              "        google.colab.kernel.accessAllowed ? 'block' : 'none';\n",
              "\n",
              "      async function convertToInteractive(key) {\n",
              "        const element = document.querySelector('#df-0921fa48-c55f-43d1-bb4d-8ff3ed6fb080');\n",
              "        const dataTable =\n",
              "          await google.colab.kernel.invokeFunction('convertToInteractive',\n",
              "                                                    [key], {});\n",
              "        if (!dataTable) return;\n",
              "\n",
              "        const docLinkHtml = 'Like what you see? Visit the ' +\n",
              "          '<a target=\"_blank\" href=https://colab.research.google.com/notebooks/data_table.ipynb>data table notebook</a>'\n",
              "          + ' to learn more about interactive tables.';\n",
              "        element.innerHTML = '';\n",
              "        dataTable['output_type'] = 'display_data';\n",
              "        await google.colab.output.renderOutput(dataTable, element);\n",
              "        const docLink = document.createElement('div');\n",
              "        docLink.innerHTML = docLinkHtml;\n",
              "        element.appendChild(docLink);\n",
              "      }\n",
              "    </script>\n",
              "  </div>\n",
              "\n",
              "\n",
              "<div id=\"df-11e67a72-90f1-4fe6-8c78-f7a30d1a3c21\">\n",
              "  <button class=\"colab-df-quickchart\" onclick=\"quickchart('df-11e67a72-90f1-4fe6-8c78-f7a30d1a3c21')\"\n",
              "            title=\"Suggest charts.\"\n",
              "            style=\"display:none;\">\n",
              "\n",
              "<svg xmlns=\"http://www.w3.org/2000/svg\" height=\"24px\"viewBox=\"0 0 24 24\"\n",
              "     width=\"24px\">\n",
              "    <g>\n",
              "        <path d=\"M19 3H5c-1.1 0-2 .9-2 2v14c0 1.1.9 2 2 2h14c1.1 0 2-.9 2-2V5c0-1.1-.9-2-2-2zM9 17H7v-7h2v7zm4 0h-2V7h2v10zm4 0h-2v-4h2v4z\"/>\n",
              "    </g>\n",
              "</svg>\n",
              "  </button>\n",
              "\n",
              "<style>\n",
              "  .colab-df-quickchart {\n",
              "      --bg-color: #E8F0FE;\n",
              "      --fill-color: #1967D2;\n",
              "      --hover-bg-color: #E2EBFA;\n",
              "      --hover-fill-color: #174EA6;\n",
              "      --disabled-fill-color: #AAA;\n",
              "      --disabled-bg-color: #DDD;\n",
              "  }\n",
              "\n",
              "  [theme=dark] .colab-df-quickchart {\n",
              "      --bg-color: #3B4455;\n",
              "      --fill-color: #D2E3FC;\n",
              "      --hover-bg-color: #434B5C;\n",
              "      --hover-fill-color: #FFFFFF;\n",
              "      --disabled-bg-color: #3B4455;\n",
              "      --disabled-fill-color: #666;\n",
              "  }\n",
              "\n",
              "  .colab-df-quickchart {\n",
              "    background-color: var(--bg-color);\n",
              "    border: none;\n",
              "    border-radius: 50%;\n",
              "    cursor: pointer;\n",
              "    display: none;\n",
              "    fill: var(--fill-color);\n",
              "    height: 32px;\n",
              "    padding: 0;\n",
              "    width: 32px;\n",
              "  }\n",
              "\n",
              "  .colab-df-quickchart:hover {\n",
              "    background-color: var(--hover-bg-color);\n",
              "    box-shadow: 0 1px 2px rgba(60, 64, 67, 0.3), 0 1px 3px 1px rgba(60, 64, 67, 0.15);\n",
              "    fill: var(--button-hover-fill-color);\n",
              "  }\n",
              "\n",
              "  .colab-df-quickchart-complete:disabled,\n",
              "  .colab-df-quickchart-complete:disabled:hover {\n",
              "    background-color: var(--disabled-bg-color);\n",
              "    fill: var(--disabled-fill-color);\n",
              "    box-shadow: none;\n",
              "  }\n",
              "\n",
              "  .colab-df-spinner {\n",
              "    border: 2px solid var(--fill-color);\n",
              "    border-color: transparent;\n",
              "    border-bottom-color: var(--fill-color);\n",
              "    animation:\n",
              "      spin 1s steps(1) infinite;\n",
              "  }\n",
              "\n",
              "  @keyframes spin {\n",
              "    0% {\n",
              "      border-color: transparent;\n",
              "      border-bottom-color: var(--fill-color);\n",
              "      border-left-color: var(--fill-color);\n",
              "    }\n",
              "    20% {\n",
              "      border-color: transparent;\n",
              "      border-left-color: var(--fill-color);\n",
              "      border-top-color: var(--fill-color);\n",
              "    }\n",
              "    30% {\n",
              "      border-color: transparent;\n",
              "      border-left-color: var(--fill-color);\n",
              "      border-top-color: var(--fill-color);\n",
              "      border-right-color: var(--fill-color);\n",
              "    }\n",
              "    40% {\n",
              "      border-color: transparent;\n",
              "      border-right-color: var(--fill-color);\n",
              "      border-top-color: var(--fill-color);\n",
              "    }\n",
              "    60% {\n",
              "      border-color: transparent;\n",
              "      border-right-color: var(--fill-color);\n",
              "    }\n",
              "    80% {\n",
              "      border-color: transparent;\n",
              "      border-right-color: var(--fill-color);\n",
              "      border-bottom-color: var(--fill-color);\n",
              "    }\n",
              "    90% {\n",
              "      border-color: transparent;\n",
              "      border-bottom-color: var(--fill-color);\n",
              "    }\n",
              "  }\n",
              "</style>\n",
              "\n",
              "  <script>\n",
              "    async function quickchart(key) {\n",
              "      const quickchartButtonEl =\n",
              "        document.querySelector('#' + key + ' button');\n",
              "      quickchartButtonEl.disabled = true;  // To prevent multiple clicks.\n",
              "      quickchartButtonEl.classList.add('colab-df-spinner');\n",
              "      try {\n",
              "        const charts = await google.colab.kernel.invokeFunction(\n",
              "            'suggestCharts', [key], {});\n",
              "      } catch (error) {\n",
              "        console.error('Error during call to suggestCharts:', error);\n",
              "      }\n",
              "      quickchartButtonEl.classList.remove('colab-df-spinner');\n",
              "      quickchartButtonEl.classList.add('colab-df-quickchart-complete');\n",
              "    }\n",
              "    (() => {\n",
              "      let quickchartButtonEl =\n",
              "        document.querySelector('#df-11e67a72-90f1-4fe6-8c78-f7a30d1a3c21 button');\n",
              "      quickchartButtonEl.style.display =\n",
              "        google.colab.kernel.accessAllowed ? 'block' : 'none';\n",
              "    })();\n",
              "  </script>\n",
              "</div>\n",
              "    </div>\n",
              "  </div>\n"
            ]
          },
          "metadata": {},
          "execution_count": 47
        }
      ]
    },
    {
      "cell_type": "code",
      "source": [
        "sdf = data['Sales']\n",
        "print('The Mean of The Sales:', st.mean(sdf))\n",
        "print('The Median of The Sales:', st.median(sdf))\n",
        "print('The Mode of The Sales:', st.mode(sdf))\n",
        "print('The Standard Deviation of The Sales:',st.stdev(sdf))"
      ],
      "metadata": {
        "colab": {
          "base_uri": "https://localhost:8080/"
        },
        "id": "Rwz5UUJ1hk-3",
        "outputId": "8c821c8f-36b2-4162-f075-87f883a5dea7"
      },
      "execution_count": null,
      "outputs": [
        {
          "output_type": "stream",
          "name": "stdout",
          "text": [
            "The Mean of The Sales: 45013.5582010582\n",
            "The Median of The Sales: 35000.0\n",
            "The Mode of The Sales: 22500\n",
            "The Standard Deviation of The Sales: 32253.506943966073\n"
          ]
        }
      ]
    },
    {
      "cell_type": "code",
      "source": [
        "udf = data['Unit']\n",
        "print('The Mean of The Unit:', st.mean(udf))\n",
        "print('The Median of The Unit:', st.median(udf))\n",
        "print('The Mode of The Unit:', st.mode(udf))\n",
        "print('The Standard Deviation of The Unit:',st.stdev(udf))"
      ],
      "metadata": {
        "colab": {
          "base_uri": "https://localhost:8080/"
        },
        "id": "nbNPvuKhl6aE",
        "outputId": "cf9f19cb-1933-41c2-c7e5-93e44f7fd91e"
      },
      "execution_count": null,
      "outputs": [
        {
          "output_type": "stream",
          "name": "stdout",
          "text": [
            "The Mean of The Unit: 18.00542328042328\n",
            "The Median of The Unit: 14.0\n",
            "The Mode of The Unit: 9\n",
            "The Standard Deviation of The Unit: 12.901402777586428\n"
          ]
        }
      ]
    },
    {
      "cell_type": "code",
      "source": [
        "# Sales distribution\n",
        "fig = plt.figure(figsize = (10, 5))\n",
        "ax = sns.distplot(data.Sales, bins=50, kde=True, )\n",
        "plt.axvline(x=np.mean(data.Sales), color='red', label='mean')\n",
        "plt.axvline(x=np.median(data.Sales), color='orange',label='median')\n",
        "plt.legend(loc='upper right')\n",
        "plt.show()"
      ],
      "metadata": {
        "colab": {
          "base_uri": "https://localhost:8080/",
          "height": 671
        },
        "id": "5_enO2zT9EJz",
        "outputId": "850d8e4e-de4e-4a74-ecef-a1f6677492c1"
      },
      "execution_count": null,
      "outputs": [
        {
          "output_type": "stream",
          "name": "stderr",
          "text": [
            "<ipython-input-50-642191cbf2e3>:3: UserWarning: \n",
            "\n",
            "`distplot` is a deprecated function and will be removed in seaborn v0.14.0.\n",
            "\n",
            "Please adapt your code to use either `displot` (a figure-level function with\n",
            "similar flexibility) or `histplot` (an axes-level function for histograms).\n",
            "\n",
            "For a guide to updating your code to use the new functions, please see\n",
            "https://gist.github.com/mwaskom/de44147ed2974457ad6372750bbe5751\n",
            "\n",
            "  ax = sns.distplot(data.Sales, bins=50, kde=True, )\n"
          ]
        },
        {
          "output_type": "display_data",
          "data": {
            "text/plain": [
              "<Figure size 1000x500 with 1 Axes>"
            ],
            "image/png": "[encoded data removed]"
          },
          "metadata": {}
        }
      ]
    },
    {
      "cell_type": "markdown",
      "source": [
        "**2: Determine which group is generating the highest sales, and which group is generating the lowest sales.**\n",
        "\n",
        "\n"
      ],
      "metadata": {
        "id": "1w4EaZrSgk1h"
      }
    },
    {
      "cell_type": "code",
      "source": [
        "# Print the sum of sales for each group\n",
        "print(data.groupby('Group')['Sales'].sum())"
      ],
      "metadata": {
        "colab": {
          "base_uri": "https://localhost:8080/"
        },
        "id": "ssJfMrrUrUIa",
        "outputId": "a50493eb-9f5e-4827-b1c2-11a52dd94621"
      },
      "execution_count": null,
      "outputs": [
        {
          "output_type": "stream",
          "name": "stdout",
          "text": [
            "Group\n",
            " Kids       85072500\n",
            " Men        85750000\n",
            " Seniors    84037500\n",
            " Women      85442500\n",
            "Name: Sales, dtype: int64\n"
          ]
        }
      ]
    },
    {
      "cell_type": "code",
      "source": [
        "# Print the highest and the lowest sales for groups\n",
        "dgm = data.groupby('Group')['Sales'].sum()\n",
        "print('The Group With Highest Sales is:',dgm.idxmax() , '=',dgm.max())\n",
        "print('The Group With Lowest Sales:',dgm.idxmin(), '=',dgm.min())"
      ],
      "metadata": {
        "colab": {
          "base_uri": "https://localhost:8080/"
        },
        "id": "f_slhRIWmRwj",
        "outputId": "5a87b3f8-5f38-4910-a471-b0258a3b5107"
      },
      "execution_count": null,
      "outputs": [
        {
          "output_type": "stream",
          "name": "stdout",
          "text": [
            "The Group With Highest Sales is:  Men = 85750000\n",
            "The Group With Lowest Sales:  Seniors = 84037500\n"
          ]
        }
      ]
    },
    {
      "cell_type": "markdown",
      "source": [
        "**3: Determine which state is generating the highest sales, and which state is generating the lowest sales.**"
      ],
      "metadata": {
        "id": "8DvggN-HgxyX"
      }
    },
    {
      "cell_type": "code",
      "source": [
        "# Print the sum of sales for each state\n",
        "print(data.groupby('State')['Sales'].sum())"
      ],
      "metadata": {
        "colab": {
          "base_uri": "https://localhost:8080/"
        },
        "id": "OW9xJ8l-9Xqb",
        "outputId": "3f6fa16b-046b-4fe9-9364-73e7c74e07f0"
      },
      "execution_count": null,
      "outputs": [
        {
          "output_type": "stream",
          "name": "stdout",
          "text": [
            "State\n",
            " NSW     74970000\n",
            " NT      22580000\n",
            " QLD     33417500\n",
            " SA      58857500\n",
            " TAS     22760000\n",
            " VIC    105565000\n",
            " WA      22152500\n",
            "Name: Sales, dtype: int64\n"
          ]
        }
      ]
    },
    {
      "cell_type": "code",
      "source": [
        "# Print the highest and the lowest sales for states\n",
        "dgm2 = data.groupby('State')['Sales'].sum()\n",
        "print('The State With Highest Sales is:',dgm2.idxmax() , '=',dgm2.max())\n",
        "print('The State With Lowest Sales:',dgm2.idxmin(), '=',dgm2.min())\n"
      ],
      "metadata": {
        "colab": {
          "base_uri": "https://localhost:8080/"
        },
        "id": "V3EfTLbSsn2r",
        "outputId": "b8350093-ec92-4e89-f15f-72ef83d7b9d9"
      },
      "execution_count": null,
      "outputs": [
        {
          "output_type": "stream",
          "name": "stdout",
          "text": [
            "The State With Highest Sales is:  VIC = 105565000\n",
            "The State With Lowest Sales:  WA = 22152500\n"
          ]
        }
      ]
    },
    {
      "cell_type": "markdown",
      "source": [
        "**4: Generate weekly, monthly and quarterly reports for the analysis made.**\n",
        "\n",
        "*   **(Use suitable libraries such as NumPy, Pandas, SciPy etc. for performing the analysis.)**\n",
        "\n"
      ],
      "metadata": {
        "id": "0oIIURWUg2Qb"
      }
    },
    {
      "cell_type": "code",
      "source": [
        "# Add two columns week and month in the dataframe\n",
        "data['Week']= data.Date.apply(lambda x: x.week)\n",
        "data['Month']= data.Date.apply(lambda x: x.month)\n",
        "data['quarter']= data.Date.apply(lambda x: x.quarter)\n",
        "data.head()"
      ],
      "metadata": {
        "colab": {
          "base_uri": "https://localhost:8080/",
          "height": 206
        },
        "id": "mAd8szKa92Wa",
        "outputId": "9cb486d2-6530-4153-9092-5b8a9e1b94a7"
      },
      "execution_count": null,
      "outputs": [
        {
          "output_type": "execute_result",
          "data": {
            "text/plain": [
              "        Date        Time State     Group  Unit  Sales  Week  Month  quarter\n",
              "0 2020-10-01     Morning    WA      Kids     8  20000    40     10        4\n",
              "1 2020-10-01     Morning    WA       Men     8  20000    40     10        4\n",
              "2 2020-10-01     Morning    WA     Women     4  10000    40     10        4\n",
              "3 2020-10-01     Morning    WA   Seniors    15  37500    40     10        4\n",
              "4 2020-10-01   Afternoon    WA      Kids     3   7500    40     10        4"
            ],
            "text/html": [
              "\n",
              "  <div id=\"df-646c7f77-403e-4d02-9085-7b6c486fa922\" class=\"colab-df-container\">\n",
              "    <div>\n",
              "<style scoped>\n",
              "    .dataframe tbody tr th:only-of-type {\n",
              "        vertical-align: middle;\n",
              "    }\n",
              "\n",
              "    .dataframe tbody tr th {\n",
              "        vertical-align: top;\n",
              "    }\n",
              "\n",
              "    .dataframe thead th {\n",
              "        text-align: right;\n",
              "    }\n",
              "</style>\n",
              "<table border=\"1\" class=\"dataframe\">\n",
              "  <thead>\n",
              "    <tr style=\"text-align: right;\">\n",
              "      <th></th>\n",
              "      <th>Date</th>\n",
              "      <th>Time</th>\n",
              "      <th>State</th>\n",
              "      <th>Group</th>\n",
              "      <th>Unit</th>\n",
              "      <th>Sales</th>\n",
              "      <th>Week</th>\n",
              "      <th>Month</th>\n",
              "      <th>quarter</th>\n",
              "    </tr>\n",
              "  </thead>\n",
              "  <tbody>\n",
              "    <tr>\n",
              "      <th>0</th>\n",
              "      <td>2020-10-01</td>\n",
              "      <td>Morning</td>\n",
              "      <td>WA</td>\n",
              "      <td>Kids</td>\n",
              "      <td>8</td>\n",
              "      <td>20000</td>\n",
              "      <td>40</td>\n",
              "      <td>10</td>\n",
              "      <td>4</td>\n",
              "    </tr>\n",
              "    <tr>\n",
              "      <th>1</th>\n",
              "      <td>2020-10-01</td>\n",
              "      <td>Morning</td>\n",
              "      <td>WA</td>\n",
              "      <td>Men</td>\n",
              "      <td>8</td>\n",
              "      <td>20000</td>\n",
              "      <td>40</td>\n",
              "      <td>10</td>\n",
              "      <td>4</td>\n",
              "    </tr>\n",
              "    <tr>\n",
              "      <th>2</th>\n",
              "      <td>2020-10-01</td>\n",
              "      <td>Morning</td>\n",
              "      <td>WA</td>\n",
              "      <td>Women</td>\n",
              "      <td>4</td>\n",
              "      <td>10000</td>\n",
              "      <td>40</td>\n",
              "      <td>10</td>\n",
              "      <td>4</td>\n",
              "    </tr>\n",
              "    <tr>\n",
              "      <th>3</th>\n",
              "      <td>2020-10-01</td>\n",
              "      <td>Morning</td>\n",
              "      <td>WA</td>\n",
              "      <td>Seniors</td>\n",
              "      <td>15</td>\n",
              "      <td>37500</td>\n",
              "      <td>40</td>\n",
              "      <td>10</td>\n",
              "      <td>4</td>\n",
              "    </tr>\n",
              "    <tr>\n",
              "      <th>4</th>\n",
              "      <td>2020-10-01</td>\n",
              "      <td>Afternoon</td>\n",
              "      <td>WA</td>\n",
              "      <td>Kids</td>\n",
              "      <td>3</td>\n",
              "      <td>7500</td>\n",
              "      <td>40</td>\n",
              "      <td>10</td>\n",
              "      <td>4</td>\n",
              "    </tr>\n",
              "  </tbody>\n",
              "</table>\n",
              "</div>\n",
              "    <div class=\"colab-df-buttons\">\n",
              "\n",
              "  <div class=\"colab-df-container\">\n",
              "    <button class=\"colab-df-convert\" onclick=\"convertToInteractive('df-646c7f77-403e-4d02-9085-7b6c486fa922')\"\n",
              "            title=\"Convert this dataframe to an interactive table.\"\n",
              "            style=\"display:none;\">\n",
              "\n",
              "  <svg xmlns=\"http://www.w3.org/2000/svg\" height=\"24px\" viewBox=\"0 -960 960 960\">\n",
              "    <path d=\"M120-120v-720h720v720H120Zm60-500h600v-160H180v160Zm220 220h160v-160H400v160Zm0 220h160v-160H400v160ZM180-400h160v-160H180v160Zm440 0h160v-160H620v160ZM180-180h160v-160H180v160Zm440 0h160v-160H620v160Z\"/>\n",
              "  </svg>\n",
              "    </button>\n",
              "\n",
              "  <style>\n",
              "    .colab-df-container {\n",
              "      display:flex;\n",
              "      gap: 12px;\n",
              "    }\n",
              "\n",
              "    .colab-df-convert {\n",
              "      background-color: #E8F0FE;\n",
              "      border: none;\n",
              "      border-radius: 50%;\n",
              "      cursor: pointer;\n",
              "      display: none;\n",
              "      fill: #1967D2;\n",
              "      height: 32px;\n",
              "      padding: 0 0 0 0;\n",
              "      width: 32px;\n",
              "    }\n",
              "\n",
              "    .colab-df-convert:hover {\n",
              "      background-color: #E2EBFA;\n",
              "      box-shadow: 0px 1px 2px rgba(60, 64, 67, 0.3), 0px 1px 3px 1px rgba(60, 64, 67, 0.15);\n",
              "      fill: #174EA6;\n",
              "    }\n",
              "\n",
              "    .colab-df-buttons div {\n",
              "      margin-bottom: 4px;\n",
              "    }\n",
              "\n",
              "    [theme=dark] .colab-df-convert {\n",
              "      background-color: #3B4455;\n",
              "      fill: #D2E3FC;\n",
              "    }\n",
              "\n",
              "    [theme=dark] .colab-df-convert:hover {\n",
              "      background-color: #434B5C;\n",
              "      box-shadow: 0px 1px 3px 1px rgba(0, 0, 0, 0.15);\n",
              "      filter: drop-shadow(0px 1px 2px rgba(0, 0, 0, 0.3));\n",
              "      fill: #FFFFFF;\n",
              "    }\n",
              "  </style>\n",
              "\n",
              "    <script>\n",
              "      const buttonEl =\n",
              "        document.querySelector('#df-646c7f77-403e-4d02-9085-7b6c486fa922 button.colab-df-convert');\n",
              "      buttonEl.style.display =\n",
              "        google.colab.kernel.accessAllowed ? 'block' : 'none';\n",
              "\n",
              "      async function convertToInteractive(key) {\n",
              "        const element = document.querySelector('#df-646c7f77-403e-4d02-9085-7b6c486fa922');\n",
              "        const dataTable =\n",
              "          await google.colab.kernel.invokeFunction('convertToInteractive',\n",
              "                                                    [key], {});\n",
              "        if (!dataTable) return;\n",
              "\n",
              "        const docLinkHtml = 'Like what you see? Visit the ' +\n",
              "          '<a target=\"_blank\" href=https://colab.research.google.com/notebooks/data_table.ipynb>data table notebook</a>'\n",
              "          + ' to learn more about interactive tables.';\n",
              "        element.innerHTML = '';\n",
              "        dataTable['output_type'] = 'display_data';\n",
              "        await google.colab.output.renderOutput(dataTable, element);\n",
              "        const docLink = document.createElement('div');\n",
              "        docLink.innerHTML = docLinkHtml;\n",
              "        element.appendChild(docLink);\n",
              "      }\n",
              "    </script>\n",
              "  </div>\n",
              "\n",
              "\n",
              "<div id=\"df-22d30b9e-9d27-41ad-95d4-29e686e4e249\">\n",
              "  <button class=\"colab-df-quickchart\" onclick=\"quickchart('df-22d30b9e-9d27-41ad-95d4-29e686e4e249')\"\n",
              "            title=\"Suggest charts.\"\n",
              "            style=\"display:none;\">\n",
              "\n",
              "<svg xmlns=\"http://www.w3.org/2000/svg\" height=\"24px\"viewBox=\"0 0 24 24\"\n",
              "     width=\"24px\">\n",
              "    <g>\n",
              "        <path d=\"M19 3H5c-1.1 0-2 .9-2 2v14c0 1.1.9 2 2 2h14c1.1 0 2-.9 2-2V5c0-1.1-.9-2-2-2zM9 17H7v-7h2v7zm4 0h-2V7h2v10zm4 0h-2v-4h2v4z\"/>\n",
              "    </g>\n",
              "</svg>\n",
              "  </button>\n",
              "\n",
              "<style>\n",
              "  .colab-df-quickchart {\n",
              "      --bg-color: #E8F0FE;\n",
              "      --fill-color: #1967D2;\n",
              "      --hover-bg-color: #E2EBFA;\n",
              "      --hover-fill-color: #174EA6;\n",
              "      --disabled-fill-color: #AAA;\n",
              "      --disabled-bg-color: #DDD;\n",
              "  }\n",
              "\n",
              "  [theme=dark] .colab-df-quickchart {\n",
              "      --bg-color: #3B4455;\n",
              "      --fill-color: #D2E3FC;\n",
              "      --hover-bg-color: #434B5C;\n",
              "      --hover-fill-color: #FFFFFF;\n",
              "      --disabled-bg-color: #3B4455;\n",
              "      --disabled-fill-color: #666;\n",
              "  }\n",
              "\n",
              "  .colab-df-quickchart {\n",
              "    background-color: var(--bg-color);\n",
              "    border: none;\n",
              "    border-radius: 50%;\n",
              "    cursor: pointer;\n",
              "    display: none;\n",
              "    fill: var(--fill-color);\n",
              "    height: 32px;\n",
              "    padding: 0;\n",
              "    width: 32px;\n",
              "  }\n",
              "\n",
              "  .colab-df-quickchart:hover {\n",
              "    background-color: var(--hover-bg-color);\n",
              "    box-shadow: 0 1px 2px rgba(60, 64, 67, 0.3), 0 1px 3px 1px rgba(60, 64, 67, 0.15);\n",
              "    fill: var(--button-hover-fill-color);\n",
              "  }\n",
              "\n",
              "  .colab-df-quickchart-complete:disabled,\n",
              "  .colab-df-quickchart-complete:disabled:hover {\n",
              "    background-color: var(--disabled-bg-color);\n",
              "    fill: var(--disabled-fill-color);\n",
              "    box-shadow: none;\n",
              "  }\n",
              "\n",
              "  .colab-df-spinner {\n",
              "    border: 2px solid var(--fill-color);\n",
              "    border-color: transparent;\n",
              "    border-bottom-color: var(--fill-color);\n",
              "    animation:\n",
              "      spin 1s steps(1) infinite;\n",
              "  }\n",
              "\n",
              "  @keyframes spin {\n",
              "    0% {\n",
              "      border-color: transparent;\n",
              "      border-bottom-color: var(--fill-color);\n",
              "      border-left-color: var(--fill-color);\n",
              "    }\n",
              "    20% {\n",
              "      border-color: transparent;\n",
              "      border-left-color: var(--fill-color);\n",
              "      border-top-color: var(--fill-color);\n",
              "    }\n",
              "    30% {\n",
              "      border-color: transparent;\n",
              "      border-left-color: var(--fill-color);\n",
              "      border-top-color: var(--fill-color);\n",
              "      border-right-color: var(--fill-color);\n",
              "    }\n",
              "    40% {\n",
              "      border-color: transparent;\n",
              "      border-right-color: var(--fill-color);\n",
              "      border-top-color: var(--fill-color);\n",
              "    }\n",
              "    60% {\n",
              "      border-color: transparent;\n",
              "      border-right-color: var(--fill-color);\n",
              "    }\n",
              "    80% {\n",
              "      border-color: transparent;\n",
              "      border-right-color: var(--fill-color);\n",
              "      border-bottom-color: var(--fill-color);\n",
              "    }\n",
              "    90% {\n",
              "      border-color: transparent;\n",
              "      border-bottom-color: var(--fill-color);\n",
              "    }\n",
              "  }\n",
              "</style>\n",
              "\n",
              "  <script>\n",
              "    async function quickchart(key) {\n",
              "      const quickchartButtonEl =\n",
              "        document.querySelector('#' + key + ' button');\n",
              "      quickchartButtonEl.disabled = true;  // To prevent multiple clicks.\n",
              "      quickchartButtonEl.classList.add('colab-df-spinner');\n",
              "      try {\n",
              "        const charts = await google.colab.kernel.invokeFunction(\n",
              "            'suggestCharts', [key], {});\n",
              "      } catch (error) {\n",
              "        console.error('Error during call to suggestCharts:', error);\n",
              "      }\n",
              "      quickchartButtonEl.classList.remove('colab-df-spinner');\n",
              "      quickchartButtonEl.classList.add('colab-df-quickchart-complete');\n",
              "    }\n",
              "    (() => {\n",
              "      let quickchartButtonEl =\n",
              "        document.querySelector('#df-22d30b9e-9d27-41ad-95d4-29e686e4e249 button');\n",
              "      quickchartButtonEl.style.display =\n",
              "        google.colab.kernel.accessAllowed ? 'block' : 'none';\n",
              "    })();\n",
              "  </script>\n",
              "</div>\n",
              "    </div>\n",
              "  </div>\n"
            ]
          },
          "metadata": {},
          "execution_count": 68
        }
      ]
    },
    {
      "cell_type": "code",
      "source": [
        "# Group each week sales and sum them for the week sales report\n",
        "w = data.groupby(\"Week\")[\"Sales\"].sum().reset_index().sort_values(by='Sales',ascending=False)\n",
        "cw = w['Week']\n",
        "sw = w['Sales']\n",
        "print('The Sales Report for each Week is:')\n",
        "print(w)"
      ],
      "metadata": {
        "colab": {
          "base_uri": "https://localhost:8080/"
        },
        "id": "cC5MsttW-A2X",
        "outputId": "ff75f27c-ec93-4363-a592-f6ccfb357b3a"
      },
      "execution_count": null,
      "outputs": [
        {
          "output_type": "stream",
          "name": "stdout",
          "text": [
            "The Sales Report for each Week is:\n",
            "    Week     Sales\n",
            "12    52  31770000\n",
            "11    51  31655000\n",
            "10    50  31525000\n",
            "9     49  29622500\n",
            "1     41  27002500\n",
            "3     43  26815000\n",
            "2     42  26640000\n",
            "4     44  21807500\n",
            "8     48  21477500\n",
            "6     46  21172500\n",
            "7     47  21112500\n",
            "5     45  20865000\n",
            "0     40  15045000\n",
            "13    53  13792500\n"
          ]
        }
      ]
    },
    {
      "cell_type": "code",
      "source": [
        "# Group each month sales and sum them for the month sales report\n",
        "m = data.groupby(\"Month\")[\"Sales\"].sum().reset_index().sort_values(by='Sales',ascending=False)\n",
        "cm = m['Month']\n",
        "sm = m['Sales']\n",
        "print('The Sales Report for each Month is:')\n",
        "print(m)"
      ],
      "metadata": {
        "colab": {
          "base_uri": "https://localhost:8080/"
        },
        "id": "qqQkba8E-F7G",
        "outputId": "c5d42e26-9ae5-4936-9e42-1727679d762f"
      },
      "execution_count": null,
      "outputs": [
        {
          "output_type": "stream",
          "name": "stdout",
          "text": [
            "The Sales Report for each Month is:\n",
            "   Month      Sales\n",
            "2     12  135330000\n",
            "0     10  114290000\n",
            "1     11   90682500\n"
          ]
        }
      ]
    },
    {
      "cell_type": "code",
      "source": [
        "# Sum all the months sales for the quarter sales report\n",
        "q = data.groupby('quarter')['Sales'].sum().reset_index().sort_values(by='quarter',ascending=True)\n",
        "cq = q['quarter']\n",
        "sq = q['Sales']\n",
        "print('The Quarter Sales Report is:',q['Sales'].sum())"
      ],
      "metadata": {
        "colab": {
          "base_uri": "https://localhost:8080/"
        },
        "id": "C41YMK9k-aeZ",
        "outputId": "3742feed-4ec9-4d7b-aea8-61cbc2623507"
      },
      "execution_count": null,
      "outputs": [
        {
          "output_type": "stream",
          "name": "stdout",
          "text": [
            "The Quarter Sales Report is: 340302500\n"
          ]
        }
      ]
    },
    {
      "cell_type": "markdown",
      "source": [
        "## **3. Data Visulaization**"
      ],
      "metadata": {
        "id": "cQs6AmAoumD2"
      }
    },
    {
      "cell_type": "markdown",
      "source": [
        "**1: Use appropriate data visualization libraries to build a dashboard for the Head of S&M that includes for the key parameters like**"
      ],
      "metadata": {
        "id": "4qlZB4A5vfo8"
      }
    },
    {
      "cell_type": "markdown",
      "source": [
        "**1.1: State-wise sales analysis for different groups (kids, women, men, and seniors).**"
      ],
      "metadata": {
        "id": "rA5UHtHmvXeg"
      }
    },
    {
      "cell_type": "code",
      "source": [
        "c = ['#004764','#0072A0','#00ABF0', '#19BDFF', '#37C6FF','#55CEFF','#73D7FF']\n",
        "plt.figure(figsize=(13, 6))\n",
        "sns.barplot(y='Sales',x='Group',hue='State',data=data,palette=c, errorbar = None);"
      ],
      "metadata": {
        "colab": {
          "base_uri": "https://localhost:8080/",
          "height": 542
        },
        "id": "i8H68V-j7Gin",
        "outputId": "c856e5bb-6a6a-4764-8831-c37207eeed47"
      },
      "execution_count": null,
      "outputs": [
        {
          "output_type": "display_data",
          "data": {
            "text/plain": [
              "<Figure size 1300x600 with 1 Axes>"
            ],
            "image/png": "[encoded data removed]"
          },
          "metadata": {}
        }
      ]
    },
    {
      "cell_type": "markdown",
      "source": [
        "**1.2: Group-wise sales analysis (kids, women, men, and seniors) across different states.**"
      ],
      "metadata": {
        "id": "hamZbKmYvSVE"
      }
    },
    {
      "cell_type": "code",
      "source": [
        "c = ['#004764','#0072A0','#00ABF0', '#19BDFF']\n",
        "plt.figure(figsize=(13, 6))\n",
        "sns.barplot(y='Sales',x='State',hue='Group',data=data,palette=c, errorbar = None)"
      ],
      "metadata": {
        "colab": {
          "base_uri": "https://localhost:8080/",
          "height": 559
        },
        "id": "2dkBRiCBxsPq",
        "outputId": "0f639bbc-1715-4e5f-be70-4ebdc56a5ad5"
      },
      "execution_count": null,
      "outputs": [
        {
          "output_type": "execute_result",
          "data": {
            "text/plain": [
              "<Axes: xlabel='State', ylabel='Sales'>"
            ]
          },
          "metadata": {},
          "execution_count": 60
        },
        {
          "output_type": "display_data",
          "data": {
            "text/plain": [
              "<Figure size 1300x600 with 1 Axes>"
            ],
            "image/png": "[encoded data removed]"
          },
          "metadata": {}
        }
      ]
    },
    {
      "cell_type": "markdown",
      "source": [
        "**1.3: Time-of-the-day analysis: during which time of the day are sales the highest, and during which time are sales the lowest?**\n",
        "*   **[This helps S&M teams design programs for increasing sales such as hyper-personalization and Next Best Offers].**\n",
        "\n"
      ],
      "metadata": {
        "id": "DidUktKyzqAj"
      }
    },
    {
      "cell_type": "code",
      "source": [
        "d2 = data.groupby('Time')['Sales'].sum().reset_index().sort_values(by='Sales',ascending=True)\n",
        "dt = d2['Time']\n",
        "ds = d2['Sales']\n",
        "d2"
      ],
      "metadata": {
        "colab": {
          "base_uri": "https://localhost:8080/",
          "height": 143
        },
        "id": "dhUF4CsmCpm2",
        "outputId": "5576403a-de95-4e46-85fb-58a063dc7ba1"
      },
      "execution_count": null,
      "outputs": [
        {
          "output_type": "execute_result",
          "data": {
            "text/plain": [
              "         Time      Sales\n",
              "1     Evening  112087500\n",
              "0   Afternoon  114007500\n",
              "2     Morning  114207500"
            ],
            "text/html": [
              "\n",
              "  <div id=\"df-182ac00e-2a04-457d-9c85-63b08fce96ad\" class=\"colab-df-container\">\n",
              "    <div>\n",
              "<style scoped>\n",
              "    .dataframe tbody tr th:only-of-type {\n",
              "        vertical-align: middle;\n",
              "    }\n",
              "\n",
              "    .dataframe tbody tr th {\n",
              "        vertical-align: top;\n",
              "    }\n",
              "\n",
              "    .dataframe thead th {\n",
              "        text-align: right;\n",
              "    }\n",
              "</style>\n",
              "<table border=\"1\" class=\"dataframe\">\n",
              "  <thead>\n",
              "    <tr style=\"text-align: right;\">\n",
              "      <th></th>\n",
              "      <th>Time</th>\n",
              "      <th>Sales</th>\n",
              "    </tr>\n",
              "  </thead>\n",
              "  <tbody>\n",
              "    <tr>\n",
              "      <th>1</th>\n",
              "      <td>Evening</td>\n",
              "      <td>112087500</td>\n",
              "    </tr>\n",
              "    <tr>\n",
              "      <th>0</th>\n",
              "      <td>Afternoon</td>\n",
              "      <td>114007500</td>\n",
              "    </tr>\n",
              "    <tr>\n",
              "      <th>2</th>\n",
              "      <td>Morning</td>\n",
              "      <td>114207500</td>\n",
              "    </tr>\n",
              "  </tbody>\n",
              "</table>\n",
              "</div>\n",
              "    <div class=\"colab-df-buttons\">\n",
              "\n",
              "  <div class=\"colab-df-container\">\n",
              "    <button class=\"colab-df-convert\" onclick=\"convertToInteractive('df-182ac00e-2a04-457d-9c85-63b08fce96ad')\"\n",
              "            title=\"Convert this dataframe to an interactive table.\"\n",
              "            style=\"display:none;\">\n",
              "\n",
              "  <svg xmlns=\"http://www.w3.org/2000/svg\" height=\"24px\" viewBox=\"0 -960 960 960\">\n",
              "    <path d=\"M120-120v-720h720v720H120Zm60-500h600v-160H180v160Zm220 220h160v-160H400v160Zm0 220h160v-160H400v160ZM180-400h160v-160H180v160Zm440 0h160v-160H620v160ZM180-180h160v-160H180v160Zm440 0h160v-160H620v160Z\"/>\n",
              "  </svg>\n",
              "    </button>\n",
              "\n",
              "  <style>\n",
              "    .colab-df-container {\n",
              "      display:flex;\n",
              "      gap: 12px;\n",
              "    }\n",
              "\n",
              "    .colab-df-convert {\n",
              "      background-color: #E8F0FE;\n",
              "      border: none;\n",
              "      border-radius: 50%;\n",
              "      cursor: pointer;\n",
              "      display: none;\n",
              "      fill: #1967D2;\n",
              "      height: 32px;\n",
              "      padding: 0 0 0 0;\n",
              "      width: 32px;\n",
              "    }\n",
              "\n",
              "    .colab-df-convert:hover {\n",
              "      background-color: #E2EBFA;\n",
              "      box-shadow: 0px 1px 2px rgba(60, 64, 67, 0.3), 0px 1px 3px 1px rgba(60, 64, 67, 0.15);\n",
              "      fill: #174EA6;\n",
              "    }\n",
              "\n",
              "    .colab-df-buttons div {\n",
              "      margin-bottom: 4px;\n",
              "    }\n",
              "\n",
              "    [theme=dark] .colab-df-convert {\n",
              "      background-color: #3B4455;\n",
              "      fill: #D2E3FC;\n",
              "    }\n",
              "\n",
              "    [theme=dark] .colab-df-convert:hover {\n",
              "      background-color: #434B5C;\n",
              "      box-shadow: 0px 1px 3px 1px rgba(0, 0, 0, 0.15);\n",
              "      filter: drop-shadow(0px 1px 2px rgba(0, 0, 0, 0.3));\n",
              "      fill: #FFFFFF;\n",
              "    }\n",
              "  </style>\n",
              "\n",
              "    <script>\n",
              "      const buttonEl =\n",
              "        document.querySelector('#df-182ac00e-2a04-457d-9c85-63b08fce96ad button.colab-df-convert');\n",
              "      buttonEl.style.display =\n",
              "        google.colab.kernel.accessAllowed ? 'block' : 'none';\n",
              "\n",
              "      async function convertToInteractive(key) {\n",
              "        const element = document.querySelector('#df-182ac00e-2a04-457d-9c85-63b08fce96ad');\n",
              "        const dataTable =\n",
              "          await google.colab.kernel.invokeFunction('convertToInteractive',\n",
              "                                                    [key], {});\n",
              "        if (!dataTable) return;\n",
              "\n",
              "        const docLinkHtml = 'Like what you see? Visit the ' +\n",
              "          '<a target=\"_blank\" href=https://colab.research.google.com/notebooks/data_table.ipynb>data table notebook</a>'\n",
              "          + ' to learn more about interactive tables.';\n",
              "        element.innerHTML = '';\n",
              "        dataTable['output_type'] = 'display_data';\n",
              "        await google.colab.output.renderOutput(dataTable, element);\n",
              "        const docLink = document.createElement('div');\n",
              "        docLink.innerHTML = docLinkHtml;\n",
              "        element.appendChild(docLink);\n",
              "      }\n",
              "    </script>\n",
              "  </div>\n",
              "\n",
              "\n",
              "<div id=\"df-59d07d10-9f62-40f7-8fec-2216feb3bbd0\">\n",
              "  <button class=\"colab-df-quickchart\" onclick=\"quickchart('df-59d07d10-9f62-40f7-8fec-2216feb3bbd0')\"\n",
              "            title=\"Suggest charts.\"\n",
              "            style=\"display:none;\">\n",
              "\n",
              "<svg xmlns=\"http://www.w3.org/2000/svg\" height=\"24px\"viewBox=\"0 0 24 24\"\n",
              "     width=\"24px\">\n",
              "    <g>\n",
              "        <path d=\"M19 3H5c-1.1 0-2 .9-2 2v14c0 1.1.9 2 2 2h14c1.1 0 2-.9 2-2V5c0-1.1-.9-2-2-2zM9 17H7v-7h2v7zm4 0h-2V7h2v10zm4 0h-2v-4h2v4z\"/>\n",
              "    </g>\n",
              "</svg>\n",
              "  </button>\n",
              "\n",
              "<style>\n",
              "  .colab-df-quickchart {\n",
              "      --bg-color: #E8F0FE;\n",
              "      --fill-color: #1967D2;\n",
              "      --hover-bg-color: #E2EBFA;\n",
              "      --hover-fill-color: #174EA6;\n",
              "      --disabled-fill-color: #AAA;\n",
              "      --disabled-bg-color: #DDD;\n",
              "  }\n",
              "\n",
              "  [theme=dark] .colab-df-quickchart {\n",
              "      --bg-color: #3B4455;\n",
              "      --fill-color: #D2E3FC;\n",
              "      --hover-bg-color: #434B5C;\n",
              "      --hover-fill-color: #FFFFFF;\n",
              "      --disabled-bg-color: #3B4455;\n",
              "      --disabled-fill-color: #666;\n",
              "  }\n",
              "\n",
              "  .colab-df-quickchart {\n",
              "    background-color: var(--bg-color);\n",
              "    border: none;\n",
              "    border-radius: 50%;\n",
              "    cursor: pointer;\n",
              "    display: none;\n",
              "    fill: var(--fill-color);\n",
              "    height: 32px;\n",
              "    padding: 0;\n",
              "    width: 32px;\n",
              "  }\n",
              "\n",
              "  .colab-df-quickchart:hover {\n",
              "    background-color: var(--hover-bg-color);\n",
              "    box-shadow: 0 1px 2px rgba(60, 64, 67, 0.3), 0 1px 3px 1px rgba(60, 64, 67, 0.15);\n",
              "    fill: var(--button-hover-fill-color);\n",
              "  }\n",
              "\n",
              "  .colab-df-quickchart-complete:disabled,\n",
              "  .colab-df-quickchart-complete:disabled:hover {\n",
              "    background-color: var(--disabled-bg-color);\n",
              "    fill: var(--disabled-fill-color);\n",
              "    box-shadow: none;\n",
              "  }\n",
              "\n",
              "  .colab-df-spinner {\n",
              "    border: 2px solid var(--fill-color);\n",
              "    border-color: transparent;\n",
              "    border-bottom-color: var(--fill-color);\n",
              "    animation:\n",
              "      spin 1s steps(1) infinite;\n",
              "  }\n",
              "\n",
              "  @keyframes spin {\n",
              "    0% {\n",
              "      border-color: transparent;\n",
              "      border-bottom-color: var(--fill-color);\n",
              "      border-left-color: var(--fill-color);\n",
              "    }\n",
              "    20% {\n",
              "      border-color: transparent;\n",
              "      border-left-color: var(--fill-color);\n",
              "      border-top-color: var(--fill-color);\n",
              "    }\n",
              "    30% {\n",
              "      border-color: transparent;\n",
              "      border-left-color: var(--fill-color);\n",
              "      border-top-color: var(--fill-color);\n",
              "      border-right-color: var(--fill-color);\n",
              "    }\n",
              "    40% {\n",
              "      border-color: transparent;\n",
              "      border-right-color: var(--fill-color);\n",
              "      border-top-color: var(--fill-color);\n",
              "    }\n",
              "    60% {\n",
              "      border-color: transparent;\n",
              "      border-right-color: var(--fill-color);\n",
              "    }\n",
              "    80% {\n",
              "      border-color: transparent;\n",
              "      border-right-color: var(--fill-color);\n",
              "      border-bottom-color: var(--fill-color);\n",
              "    }\n",
              "    90% {\n",
              "      border-color: transparent;\n",
              "      border-bottom-color: var(--fill-color);\n",
              "    }\n",
              "  }\n",
              "</style>\n",
              "\n",
              "  <script>\n",
              "    async function quickchart(key) {\n",
              "      const quickchartButtonEl =\n",
              "        document.querySelector('#' + key + ' button');\n",
              "      quickchartButtonEl.disabled = true;  // To prevent multiple clicks.\n",
              "      quickchartButtonEl.classList.add('colab-df-spinner');\n",
              "      try {\n",
              "        const charts = await google.colab.kernel.invokeFunction(\n",
              "            'suggestCharts', [key], {});\n",
              "      } catch (error) {\n",
              "        console.error('Error during call to suggestCharts:', error);\n",
              "      }\n",
              "      quickchartButtonEl.classList.remove('colab-df-spinner');\n",
              "      quickchartButtonEl.classList.add('colab-df-quickchart-complete');\n",
              "    }\n",
              "    (() => {\n",
              "      let quickchartButtonEl =\n",
              "        document.querySelector('#df-59d07d10-9f62-40f7-8fec-2216feb3bbd0 button');\n",
              "      quickchartButtonEl.style.display =\n",
              "        google.colab.kernel.accessAllowed ? 'block' : 'none';\n",
              "    })();\n",
              "  </script>\n",
              "</div>\n",
              "    </div>\n",
              "  </div>\n"
            ]
          },
          "metadata": {},
          "execution_count": 61
        }
      ]
    },
    {
      "cell_type": "code",
      "source": [
        "# To visulaize the time-of-the-day report\n",
        "# You can notice that there's no difference between the bars but in the Evening Time bar has some difference because it's shorter then the rest.\n",
        "sns.barplot(x = dt,y= ds)"
      ],
      "metadata": {
        "colab": {
          "base_uri": "https://localhost:8080/",
          "height": 482
        },
        "id": "yHN7Sa6UGC1j",
        "outputId": "3dc14079-5d3d-41dd-9f85-1f7a8f15d14f"
      },
      "execution_count": null,
      "outputs": [
        {
          "output_type": "execute_result",
          "data": {
            "text/plain": [
              "<Axes: xlabel='Time', ylabel='Sales'>"
            ]
          },
          "metadata": {},
          "execution_count": 62
        },
        {
          "output_type": "display_data",
          "data": {
            "text/plain": [
              "<Figure size 640x480 with 1 Axes>"
            ],
            "image/png": "[encoded data removed]"
          },
          "metadata": {}
        }
      ]
    },
    {
      "cell_type": "code",
      "source": [
        "# To visulaize the time-of-the-day report\n",
        "# You can notice in this pie chart that the Afternon and Morning Times have the same ratio and Evnening Time ratio is 1% smaller.\n",
        "labelsd = ['Afternon','Evening Time','Morning']\n",
        "plt.pie(d2['Sales'],autopct = '%1.0f%%',labels= labelsd )"
      ],
      "metadata": {
        "colab": {
          "base_uri": "https://localhost:8080/",
          "height": 562
        },
        "id": "Ebp7D5p9D_hC",
        "outputId": "6304a23b-577b-4764-f757-21b6c8f315ef"
      },
      "execution_count": null,
      "outputs": [
        {
          "output_type": "execute_result",
          "data": {
            "text/plain": [
              "([<matplotlib.patches.Wedge at 0x7fa353ca4b50>,\n",
              "  <matplotlib.patches.Wedge at 0x7fa353ca4a60>,\n",
              "  <matplotlib.patches.Wedge at 0x7fa353ca56c0>],\n",
              " [Text(0.5618004505587912, 0.9457167936290121, 'Afternon'),\n",
              "  Text(-1.0997893316606189, 0.021527330663353713, 'Evening Time'),\n",
              "  Text(0.5431847153557433, -0.9565303785055131, 'Morning')],\n",
              " [Text(0.3064366093957043, 0.5158455237976429, '33%'),\n",
              "  Text(-0.5998850899967012, 0.011742180361829297, '34%'),\n",
              "  Text(0.2962825720122236, -0.5217438428211889, '34%')])"
            ]
          },
          "metadata": {},
          "execution_count": 63
        },
        {
          "output_type": "display_data",
          "data": {
            "text/plain": [
              "<Figure size 640x480 with 1 Axes>"
            ],
            "image/png": "[encoded data removed]"
          },
          "metadata": {}
        }
      ]
    },
    {
      "cell_type": "markdown",
      "source": [
        "**The dashboard must contain daily, weekly, monthly and quarterly charts.**"
      ],
      "metadata": {
        "id": "M03vUDyN0K96"
      }
    },
    {
      "cell_type": "code",
      "source": [
        "# For the daily sales report\n",
        "d1 = data.groupby('Date')['Sales'].sum()\n",
        "d1"
      ],
      "metadata": {
        "colab": {
          "base_uri": "https://localhost:8080/"
        },
        "id": "uzYaVqWKOZz0",
        "outputId": "8a81e9f6-4855-488c-d41e-035e57644391"
      },
      "execution_count": null,
      "outputs": [
        {
          "output_type": "execute_result",
          "data": {
            "text/plain": [
              "Date\n",
              "2020-10-01    3720000\n",
              "2020-10-02    3715000\n",
              "2020-10-03    3890000\n",
              "2020-10-04    3720000\n",
              "2020-10-05    3862500\n",
              "               ...   \n",
              "2020-12-26    4715000\n",
              "2020-12-27    4637500\n",
              "2020-12-28    4595000\n",
              "2020-12-29    4607500\n",
              "2020-12-30    4590000\n",
              "Name: Sales, Length: 90, dtype: int64"
            ]
          },
          "metadata": {},
          "execution_count": 64
        }
      ]
    },
    {
      "cell_type": "code",
      "source": [
        "# function to format the number for visualization\n",
        "def format_number(data_value, indx):\n",
        "    if data_value>= 1_000_000:\n",
        "        formatter = '{:1.1f}M'.format(data_value*0.000_001)\n",
        "\n",
        "    else:\n",
        "        formatter = '{:1.1f}K'.format(data_value*0.001)\n",
        "    return formatter"
      ],
      "metadata": {
        "id": "JxobGuxTJ02T"
      },
      "execution_count": null,
      "outputs": []
    },
    {
      "cell_type": "code",
      "source": [
        "plt.figure(figsize=(20, 20))\n",
        "\n",
        "plt.subplot(2, 2, 1)\n",
        "plt.title('Daily Sales Chart')\n",
        "plt.gca().yaxis.set_major_formatter(format_number)\n",
        "d1.plot()\n",
        "\n",
        "plt.subplot(2, 2, 2)\n",
        "plt.title('Weekly Sales Chart')\n",
        "sns.barplot(y=w['Sales'],x=w['Week'],palette=c,errorbar = None)\n",
        "\n",
        "plt.subplot(2, 2, 3)\n",
        "plt.title('Monthly Sales Chart')\n",
        "month_labels = ['October','November','December']\n",
        "plt.pie(m['Sales'],autopct = '%1.0f%%',labels=month_labels)\n",
        "\n",
        "plt.subplot(2, 2, 4)\n",
        "plt.title('Quarterly Sales Chart')\n",
        "sns.barplot(x=q['quarter'],y=q['Sales'])\n",
        "\n"
      ],
      "metadata": {
        "colab": {
          "base_uri": "https://localhost:8080/",
          "height": 1000
        },
        "id": "Axs4-824VWGN",
        "outputId": "9864d48e-e722-4864-d657-c3f6c5add582"
      },
      "execution_count": null,
      "outputs": [
        {
          "output_type": "execute_result",
          "data": {
            "text/plain": [
              "<Axes: title={'center': 'Quarterly Sales Chart'}, xlabel='quarter', ylabel='Sales'>"
            ]
          },
          "metadata": {},
          "execution_count": 66
        },
        {
          "output_type": "display_data",
          "data": {
            "text/plain": [
              "<Figure size 2000x2000 with 4 Axes>"
            ],
            "image/png": "[encoded data removed]"
          },
          "metadata": {}
        }
      ]
    },
    {
      "cell_type": "code",
      "source": [
        "# Box plot for the Sales and Unit\n",
        "plt.figure(figsize=(10, 5))\n",
        "plt.subplot(1, 2, 1)\n",
        "plt.boxplot(data['Sales'])\n",
        "plt.xlabel('Sales')\n",
        "\n",
        "plt.subplot(1, 2, 2)\n",
        "plt.boxplot(data['Unit'])\n",
        "plt.xlabel('Unit')\n",
        "\n",
        "plt.show()"
      ],
      "metadata": {
        "colab": {
          "base_uri": "https://localhost:8080/",
          "height": 465
        },
        "id": "HWJIWMRv9BYQ",
        "outputId": "887c183e-9827-4145-8db6-6c0ac2599489"
      },
      "execution_count": null,
      "outputs": [
        {
          "output_type": "display_data",
          "data": {
            "text/plain": [
              "<Figure size 1000x500 with 2 Axes>"
            ],
            "image/png": "[encoded data removed]"
          },
          "metadata": {}
        }
      ]
    },
    {
      "cell_type": "markdown",
      "source": [
        "**2: Include your recommendation, and indicate why you are choosing the recommended visualization package.**"
      ],
      "metadata": {
        "id": "jjShcLq-0Vbn"
      }
    },
    {
      "cell_type": "markdown",
      "source": [
        "I utilize both the Matplotlib and seaborn libraries for my project. Matplotlib is an open-source library that allows us to freely utilize its functionalities, enabling the creation of figures in various formats and interactive environments. On the other hand, seaborn is a Python data visualization package built on top of Matplotlib. It provides a powerful set of tools for generating visually appealing and informative statistical visuals. Additionally, we can leverage numpy to visualize the data as well."
      ],
      "metadata": {
        "id": "WZDpCwTMcoU_"
      }
    }
  ]
}